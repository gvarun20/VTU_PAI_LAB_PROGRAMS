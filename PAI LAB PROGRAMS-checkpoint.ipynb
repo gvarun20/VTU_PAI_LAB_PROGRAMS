{
 "cells": [
  {
   "cell_type": "markdown",
   "id": "031a55ea",
   "metadata": {},
   "source": [
    "## PART A \n",
    "## 1(a). Write a python program to print the multiplication for the given number"
   ]
  },
  {
   "cell_type": "code",
   "execution_count": 1,
   "id": "b757038f",
   "metadata": {},
   "outputs": [
    {
     "name": "stdout",
     "output_type": "stream",
     "text": [
      "Enter a number to find its multiple :12\n",
      "12 * 1 = 12\n",
      "12 * 2 = 24\n",
      "12 * 3 = 36\n",
      "12 * 4 = 48\n",
      "12 * 5 = 60\n",
      "12 * 6 = 72\n",
      "12 * 7 = 84\n",
      "12 * 8 = 96\n",
      "12 * 9 = 108\n",
      "12 * 10 = 120\n"
     ]
    }
   ],
   "source": [
    "n=int(input(\"Enter a number to find its multiple :\"))\n",
    "for i in range(1,11):\n",
    "    print(n,'*',i,'=',i*n)"
   ]
  },
  {
   "cell_type": "markdown",
   "id": "e5ef3b2d",
   "metadata": {},
   "source": [
    "## 1(b).Write a python program to check whether the given number is prime or not?"
   ]
  },
  {
   "cell_type": "code",
   "execution_count": 2,
   "id": "6ea1628b",
   "metadata": {},
   "outputs": [
    {
     "name": "stdout",
     "output_type": "stream",
     "text": [
      "Enter a number to find if it is prime or not :7\n",
      "Given number is a prime number\n"
     ]
    }
   ],
   "source": [
    "def prime(n):\n",
    "    for i in range(2,n-1):\n",
    "        if(n%i==0):\n",
    "            return False\n",
    "        return True\n",
    "n=int(input(\"Enter a number to find if it is prime or not :\"))\n",
    "if n<=1 or not prime(n):\n",
    "    print('Given number is not a prime number')\n",
    "else:\n",
    "    print('Given number is a prime number')"
   ]
  },
  {
   "cell_type": "markdown",
   "id": "f90806b8",
   "metadata": {},
   "source": [
    "## 1(c). Write a python program to find factorial of the given number?"
   ]
  },
  {
   "cell_type": "code",
   "execution_count": 3,
   "id": "3836c5ea",
   "metadata": {},
   "outputs": [
    {
     "name": "stdout",
     "output_type": "stream",
     "text": [
      "Enter a number to find its factorial :-5\n",
      "Factorial not possible ,Entered number should be positive\n",
      "Enter a number to find its factorial :9\n",
      "Factorial of  9 is  362880\n"
     ]
    }
   ],
   "source": [
    "while True:\n",
    "    n=int(input(\"Enter a number to find its factorial :\"))\n",
    "    if (n>0):\n",
    "        break\n",
    "    print('Factorial not possible ,Entered number should be positive')\n",
    "fac=1\n",
    "for i in range (1,n+1):\n",
    "    fac*=i\n",
    "print('Factorial of ',n,'is ',fac)"
   ]
  },
  {
   "cell_type": "markdown",
   "id": "7181c47a",
   "metadata": {},
   "source": [
    "## 2(a). Write a python program to implement List operations (Nested List, Length,Concatenation, Membership, Iteration, Indexing and Slicing)"
   ]
  },
  {
   "cell_type": "code",
   "execution_count": 4,
   "id": "5f453508",
   "metadata": {},
   "outputs": [
    {
     "name": "stdout",
     "output_type": "stream",
     "text": [
      "['cc', 'dd', ['eee', ['pppp', 'rrrr'], 'fff']]\n",
      "['eee', ['pppp', 'rrrr'], 'fff']\n",
      "['pppp', 'rrrr']\n",
      "pppp\n"
     ]
    }
   ],
   "source": [
    "#Nested List\n",
    "list=['a','b',['cc','dd',['eee',['pppp','rrrr'],'fff']],'g','h']\n",
    "print(list[2])\n",
    "print(list[2][2])\n",
    "print(list[2][2][1])\n",
    "print(list[2][2][1][0])"
   ]
  },
  {
   "cell_type": "code",
   "execution_count": 5,
   "id": "12e148c7",
   "metadata": {},
   "outputs": [
    {
     "name": "stdout",
     "output_type": "stream",
     "text": [
      "11\n"
     ]
    }
   ],
   "source": [
    "#length\n",
    "string='Hello World'\n",
    "print(len(string))"
   ]
  },
  {
   "cell_type": "code",
   "execution_count": 6,
   "id": "3528c75f",
   "metadata": {},
   "outputs": [
    {
     "name": "stdout",
     "output_type": "stream",
     "text": [
      "Enter first String  : Good \n",
      "Enter second String : morning\n",
      "Concatenated String is  Good morning\n"
     ]
    }
   ],
   "source": [
    "#Concatenation\n",
    "s1=input('Enter first String  : ')\n",
    "s2=input('Enter second String : ')\n",
    "print('Concatenated String is ',s1+s2)"
   ]
  },
  {
   "cell_type": "code",
   "execution_count": 7,
   "id": "dc1ef930",
   "metadata": {},
   "outputs": [
    {
     "name": "stdout",
     "output_type": "stream",
     "text": [
      "4\n",
      "7\n",
      "0\n",
      "3\n"
     ]
    }
   ],
   "source": [
    "#Iteration \n",
    "list=[4,7,0,3]\n",
    "my_iter=iter(list)\n",
    "print(next(my_iter))\n",
    "print(next(my_iter))\n",
    "print(my_iter.__next__())\n",
    "print(my_iter.__next__())"
   ]
  },
  {
   "cell_type": "code",
   "execution_count": 8,
   "id": "44be5955",
   "metadata": {},
   "outputs": [
    {
     "name": "stdout",
     "output_type": "stream",
     "text": [
      "Aston\n",
      "Audi\n",
      "McLaren\n"
     ]
    }
   ],
   "source": [
    "#Indexing\n",
    "cars=['Aston','Audi','McLaren']\n",
    "for i in range (len(cars)):\n",
    "    print(cars[i])"
   ]
  },
  {
   "cell_type": "code",
   "execution_count": 9,
   "id": "bd30e4d5",
   "metadata": {},
   "outputs": [
    {
     "name": "stdout",
     "output_type": "stream",
     "text": [
      "othy Institute of Technology\n",
      "Jyo\n",
      "Joh nttt fTcnlg\n",
      "yot\n",
      "Jt s\n",
      "ygolonhceT fo etutitsnI yhtoyJ\n"
     ]
    }
   ],
   "source": [
    "#Slicing\n",
    "arr='Jyothy Institute of Technology'\n",
    "print(arr[2:])         #slicing in list with 1 arguments\n",
    "print(arr[:3])\n",
    "print(arr[::2])\n",
    "print(arr[1:4])        #slicing in list with 2 arguments\n",
    "print(arr[0:10:3])     #slicing in list with 3 arguments\n",
    "print(arr[::-1])       #reversing an string by slicing"
   ]
  },
  {
   "cell_type": "markdown",
   "id": "1a91c474",
   "metadata": {},
   "source": [
    "## 2(b). Write a python program to implement List methods (Add, Append, Extend & Delete)."
   ]
  },
  {
   "cell_type": "code",
   "execution_count": 10,
   "id": "919520ce",
   "metadata": {},
   "outputs": [
    {
     "name": "stdout",
     "output_type": "stream",
     "text": [
      "{'Hyundai', 'BMW', 'Audi', 'Honda'}\n"
     ]
    }
   ],
   "source": [
    "#ADD\n",
    "cars={'Audi','Honda','BMW'}\n",
    "cars.add('Hyundai')\n",
    "print(cars)"
   ]
  },
  {
   "cell_type": "code",
   "execution_count": 11,
   "id": "5ad7068e",
   "metadata": {},
   "outputs": [
    {
     "name": "stdout",
     "output_type": "stream",
     "text": [
      "['Hai', 'Good', 'Morning']\n"
     ]
    }
   ],
   "source": [
    "#APPEND\n",
    "my_list=['Hai','Good']\n",
    "my_list.append('Morning')\n",
    "print(my_list)"
   ]
  },
  {
   "cell_type": "code",
   "execution_count": 12,
   "id": "42ed542f",
   "metadata": {},
   "outputs": [
    {
     "name": "stdout",
     "output_type": "stream",
     "text": [
      "car : ['Ford', 'BMW', 'Volvo', 'Apple', 'Banana', 'Cherry']\n",
      "fruits : ['Apple', 'Banana', 'Cherry', 'Dog', 'Elephant', 'Lion']\n"
     ]
    }
   ],
   "source": [
    "#EXTEND\n",
    "fruits=['Apple','Banana','Cherry']\n",
    "car=['Ford','BMW','Volvo']\n",
    "animals=['Dog','Elephant','Lion']\n",
    "car.extend(fruits)\n",
    "print('car :',car)\n",
    "fruits.extend(animals)\n",
    "print('fruits :',fruits)"
   ]
  },
  {
   "cell_type": "code",
   "execution_count": 13,
   "id": "656c3d4a",
   "metadata": {},
   "outputs": [
    {
     "name": "stdout",
     "output_type": "stream",
     "text": [
      "thislist : ['BMW', 'Volvo']\n"
     ]
    }
   ],
   "source": [
    "#DELETE\n",
    "thislist=['Ford','BMW','Volvo']\n",
    "del thislist[0]\n",
    "print('thislist :',thislist)"
   ]
  },
  {
   "cell_type": "markdown",
   "id": "d1ba4716",
   "metadata": {},
   "source": [
    "## 3. Write a python program to implement simple Chatbot with minimum 10 conversations"
   ]
  },
  {
   "cell_type": "code",
   "execution_count": 14,
   "id": "166f865a",
   "metadata": {},
   "outputs": [],
   "source": [
    "from tkinter import *\n",
    "root=Tk()\n",
    "root.title('Chat Bot')\n",
    "def send():\n",
    "    send='\\nYou->'+e.get()\n",
    "    txt.insert(END,send)\n",
    "    user=e.get().lower()\n",
    "    if(user=='hello'):\n",
    "        txt.insert(END,'\\nBot->Hi')\n",
    "    elif(user=='hi' or user=='hii'):\n",
    "        txt.insert(END,'\\nBot->Hello')\n",
    "    elif(user=='how are you'):\n",
    "        txt.insert(END,'\\nBot->Fine! and you')\n",
    "    elif(user=='fine' or user=='i am good'  or user=='i am doing good'):\n",
    "        txt.insert(END,'\\nBot->Great! How can I help you?')\n",
    "    elif(user==\"what's your name?\" ):\n",
    "        txt.insert(END,'\\nBot->My name is ChatBot')\n",
    "    elif(user==\"what's today's weather\"):\n",
    "        txt.insert(END,\"\\nBot->It's sunny today\")\n",
    "    elif(user=='are you a robot'):\n",
    "        txt.insert(END,'\\nBot->Yes,I am a robot with human feelings')\n",
    "    elif(user=='bye'):\n",
    "        txt.insert(END,'\\nBot->Have a good day')\n",
    "    elif(user=='do you have a physical body'):\n",
    "        txt.insert(END,'\\nBot->No')\n",
    "    else:\n",
    "        txt.insert(END,\"\\nBot->Sorry!I didn't gey you\")\n",
    "    e.delete(0,END)\n",
    "txt=Text(root)\n",
    "txt.grid(row=0,column=0,columnspan=2)\n",
    "e=Entry(root,width=100)\n",
    "e.grid(row=1,column=0)\n",
    "send=Button(root,text='send',command=send).grid(row=1,column=1)\n",
    "root.mainloop()"
   ]
  },
  {
   "cell_type": "markdown",
   "id": "1548e79e",
   "metadata": {},
   "source": [
    "## 4. Write a python program to Illustrate Different Set Operations"
   ]
  },
  {
   "cell_type": "code",
   "execution_count": 15,
   "id": "98a42adc",
   "metadata": {},
   "outputs": [
    {
     "name": "stdout",
     "output_type": "stream",
     "text": [
      "Union of E and N is                : {0, 1, 2, 3, 4, 5, 6, 8}\n",
      "Intersection of E and N is         : {2, 4}\n",
      "Difference of E and N is           : {0, 8, 6}\n",
      "Symmetric Difference of E and N is : {0, 1, 3, 5, 6, 8}\n"
     ]
    }
   ],
   "source": [
    "E={0,2,4,6,8}\n",
    "N={1,2,3,4,5}\n",
    "print('Union of E and N is                :',E|N)     #SET UNION\n",
    "print('Intersection of E and N is         :',E&N)     #SET INTERSECTION\n",
    "print('Difference of E and N is           :',E-N)     #SET DIFFERENCE\n",
    "print('Symmetric Difference of E and N is :',E^N)     #SET SYMMETRIC DIFFERENCE"
   ]
  },
  {
   "cell_type": "markdown",
   "id": "5ab64755",
   "metadata": {},
   "source": [
    "## 5(a). Write a python program to implement a function that counts the number of times a string(s1) occurs in another string(s2)"
   ]
  },
  {
   "cell_type": "code",
   "execution_count": 16,
   "id": "1499e781",
   "metadata": {},
   "outputs": [
    {
     "name": "stdout",
     "output_type": "stream",
     "text": [
      "Count : 2\n"
     ]
    }
   ],
   "source": [
    "def count(sub,s):\n",
    "    M=len(sub)\n",
    "    N=len(s)\n",
    "    res=0\n",
    "    for i in range(N-M+1):\n",
    "        j=0\n",
    "        while (j<M):\n",
    "            if (s[i+j]!=sub[j]):\n",
    "                break\n",
    "            j+=1\n",
    "        if(j==M):\n",
    "            res+=1\n",
    "            j=0\n",
    "    return res\n",
    "string='asdffghasdkljasdf'\n",
    "substring='asdf'\n",
    "print(\"Count :\",count(substring,string))"
   ]
  },
  {
   "cell_type": "markdown",
   "id": "a9b49495",
   "metadata": {},
   "source": [
    "## 5(b). Write a program to illustrate Dictionary operations([],in,traversal)and methods: keys(),values(),items()"
   ]
  },
  {
   "cell_type": "code",
   "execution_count": 17,
   "id": "5bcddbad",
   "metadata": {},
   "outputs": [
    {
     "name": "stdout",
     "output_type": "stream",
     "text": [
      "-----------------KEYS()-----------------------\n",
      "dict_keys([1, 2, 3])\n",
      "-----------------ITEMS()----------------------\n",
      "dict_items([('Physics', 67), ('Marks', 87)])\n",
      "dict_keys(['Physics', 'Marks'])\n",
      "-----------------VALUES()---------------------\n",
      "dict_values([67, 87])\n"
     ]
    }
   ],
   "source": [
    "print('-----------------KEYS()-----------------------')\n",
    "number={1:'One',2:'Two',3:'Three'}\n",
    "dict_keys=number.keys()\n",
    "print(dict_keys)\n",
    "print('-----------------ITEMS()----------------------')\n",
    "marks={'Physics':67,'Marks':87}\n",
    "print(marks.items())\n",
    "print(marks.keys())\n",
    "print('-----------------VALUES()---------------------')\n",
    "print(marks.values())"
   ]
  },
  {
   "cell_type": "markdown",
   "id": "dfc66e38",
   "metadata": {},
   "source": [
    "# PART B\n",
    "## 1.Implement and Demonstrate Depth First Search Algorithm on Water Jug Problem"
   ]
  },
  {
   "cell_type": "code",
   "execution_count": 18,
   "id": "17f8e083",
   "metadata": {},
   "outputs": [
    {
     "name": "stdout",
     "output_type": "stream",
     "text": [
      "path ia as follows :\n",
      "( 0 , 0 )\n",
      "( 5 , 0 )\n",
      "( 5 , 3 )\n",
      "( 0 , 3 )\n",
      "( 3 , 0 )\n",
      "( 3 , 3 )\n",
      "( 5 , 1 )\n",
      "( 0 , 1 )\n",
      "( 1 , 0 )\n",
      "( 1 , 3 )\n",
      "( 4 , 0 )\n"
     ]
    },
    {
     "data": {
      "text/plain": [
       "True"
      ]
     },
     "execution_count": 18,
     "metadata": {},
     "output_type": "execute_result"
    }
   ],
   "source": [
    "from collections import defaultdict\n",
    "visited=defaultdict(lambda:False)\n",
    "j1,j2,l=0,0,0\n",
    "def water_jug_problem(x,y):\n",
    "    global j1,j2,l\n",
    "    if(x==l and y==0) or (x==0 and y==l):\n",
    "        print('(',x,',',y,')',sep=\" \")\n",
    "        return True\n",
    "    if visited[(x,y)]==False:\n",
    "        print('(',x,',',y,')',sep=\" \")\n",
    "        visited[(x,y)]=True\n",
    "        return( water_jug_problem(0,y)  or water_jug_problem(x,0) or\n",
    "                water_jug_problem(j1,y) or water_jug_problem(x,j2)or\n",
    "                water_jug_problem(x+min(y,(j1-x)),y-min(y,(j1-x)))or\n",
    "                water_jug_problem(x-min(x,(j2-y)),y+min(x,(j2-y))))\n",
    "    else:\n",
    "        return False\n",
    "j1,j2,l=5,3,4\n",
    "print(\"path ia as follows :\")\n",
    "water_jug_problem(0,0)"
   ]
  },
  {
   "cell_type": "markdown",
   "id": "9fd65653",
   "metadata": {},
   "source": [
    "## 2. Implement and Demonstrate Best First Search Algorithm on any AI problem"
   ]
  },
  {
   "cell_type": "code",
   "execution_count": 19,
   "id": "017a250d",
   "metadata": {},
   "outputs": [
    {
     "name": "stdout",
     "output_type": "stream",
     "text": [
      "path found:['A', 'B', 'D']\n"
     ]
    },
    {
     "data": {
      "text/plain": [
       "['A', 'B', 'D']"
      ]
     },
     "execution_count": 19,
     "metadata": {},
     "output_type": "execute_result"
    }
   ],
   "source": [
    "class Graph:\n",
    "    def __init__(self,adjac_lis):\n",
    "        self.adjac_lis = adjac_lis\n",
    "    def get_neighbours(self,v):\n",
    "        return self.adjac_lis[v]\n",
    "    def h(self,n):\n",
    "        H={'A':1,'B':1, 'C':1,'D':1}\n",
    "        return H[n]\n",
    "    def a_star_algorithm(self,start,stop):\n",
    "        open_lst = set([start])\n",
    "        closed_lst = set([])\n",
    "        dist ={}\n",
    "        dist[start] = 0\n",
    "        prenode ={}\n",
    "        prenode[start] =start\n",
    "        while len(open_lst)>0:\n",
    "            n = None\n",
    "            for v in open_lst:\n",
    "                if n==None or dist[v]+self.h(v)<dist[n]+self.h(n):\n",
    "                    n=v;\n",
    "            if n==None:\n",
    "                print(\"path doesnot exist\")\n",
    "                return None\n",
    "            if n==stop:\n",
    "                reconst_path=[]\n",
    "                while prenode[n]!=n:\n",
    "                    reconst_path.append(n)\n",
    "                    n = prenode[n]\n",
    "                reconst_path.append(start)\n",
    "                reconst_path.reverse()\n",
    "                print(\"path found:{}\".format(reconst_path))\n",
    "                return reconst_path\n",
    "            for (m,weight) in self.get_neighbours(n):\n",
    "                if m not in open_lst and m not in closed_lst:\n",
    "                    open_lst.add(m)\n",
    "                    prenode[m] = n\n",
    "                    dist[m] = dist[n]+weight\n",
    "                else:\n",
    "                    if dist[m]>dist[n]+weight:\n",
    "                        dist[m] = dist[n]+weight\n",
    "                        prenode[m]=n\n",
    "                        if m in closed_lst:\n",
    "                            closed_lst.remove(m)\n",
    "                            open_lst.add(m)\n",
    "            open_lst.remove(n)\n",
    "            closed_lst.add(n)\n",
    "        print(\"Path doesnot exist\")\n",
    "        return None\n",
    "adjac_lis ={'A':[('B',1),('C',3),('D',7)],'B':[('D',5)],'C':[('D',12)]}\n",
    "graph1=Graph(adjac_lis)\n",
    "graph1.a_star_algorithm('A', 'D')"
   ]
  },
  {
   "cell_type": "markdown",
   "id": "55a6155c",
   "metadata": {},
   "source": [
    "## 3. Implement AO* Search algorithm"
   ]
  },
  {
   "cell_type": "code",
   "execution_count": 20,
   "id": "8a7b20ad",
   "metadata": {},
   "outputs": [
    {
     "name": "stdout",
     "output_type": "stream",
     "text": [
      "Graph-A\n",
      "PROCESSING NODE : A\n",
      "-----------------------------------------------------------------------------------------\n",
      "8 ['B']\n",
      "\n",
      "PROCESSING NODE : B\n",
      "-----------------------------------------------------------------------------------------\n",
      "7 ['E']\n",
      "\n",
      "PROCESSING NODE : A\n",
      "-----------------------------------------------------------------------------------------\n",
      "10 ['C', 'D']\n",
      "\n",
      "PROCESSING NODE : E\n",
      "-----------------------------------------------------------------------------------------\n",
      "0 []\n",
      "\n",
      "PROCESSING NODE : B\n",
      "-----------------------------------------------------------------------------------------\n",
      "1 ['E']\n",
      "\n",
      "PROCESSING NODE : A\n",
      "-----------------------------------------------------------------------------------------\n",
      "5 ['B']\n",
      "\n",
      "FOR THE SOLUTION, TRAVERSE THE GRAPH FROM THE START NODE: A\n",
      "------------------------------------------------------------\n",
      "{'E': [], 'B': ['E'], 'A': ['B']}\n",
      "------------------------------------------------------------\n"
     ]
    }
   ],
   "source": [
    "from heuristicsearch.ao_star import AOStar\n",
    "print('Graph-A')\n",
    "adj_list={\n",
    "    'A':[[('C',2),('D',3)],[('B',4)]],\n",
    "    'B':[[('E',1)],[('F',4)]],\n",
    "    'C':[[('G',3)],[('H',2),('I',3)]],\n",
    "    'D':[[('J',3)]]\n",
    "}\n",
    "Heuristic={\n",
    "    'A': -1,\n",
    "    'B': 4,\n",
    "    'C': 2,\n",
    "    'D': 3,\n",
    "    'E': 6,\n",
    "    'F': 8,\n",
    "    'G': 2,\n",
    "    'H': 0,\n",
    "    'I': 0,\n",
    "    'J': 0\n",
    "}\n",
    "graph=AOStar(adj_list,Heuristic,'A')\n",
    "graph.applyAOStar()"
   ]
  },
  {
   "cell_type": "markdown",
   "id": "56d114c7",
   "metadata": {},
   "source": [
    "## 4. Solve 8-Queens Problem with suitable assumptions"
   ]
  },
  {
   "cell_type": "code",
   "execution_count": 21,
   "id": "30b0a3dd",
   "metadata": {},
   "outputs": [
    {
     "name": "stdout",
     "output_type": "stream",
     "text": [
      "Enter the number of queens\n",
      "5\n",
      "[1, 0, 0, 0, 0]\n",
      "[0, 0, 1, 0, 0]\n",
      "[0, 0, 0, 0, 1]\n",
      "[0, 1, 0, 0, 0]\n",
      "[0, 0, 0, 1, 0]\n"
     ]
    }
   ],
   "source": [
    "print (\"Enter the number of queens\")\n",
    "N = int(input())\n",
    "\n",
    "board = [[0]*N for _ in range(N)]\n",
    "\n",
    "def attack(i, j):\n",
    "    for k in range(0,N):\n",
    "        if board[i][k]==1 or board[k][j]==1:\n",
    "            return True\n",
    "    for k in range(0,N):\n",
    "        for l in range(0,N):\n",
    "            if (k+l==i+j) or (k-l==i-j):\n",
    "                if board[k][l]==1:\n",
    "                    return True\n",
    "    return False\n",
    "\n",
    "def N_queens(n):\n",
    "    if n==0:\n",
    "        return True\n",
    "    for i in range(0,N):\n",
    "        for j in range(0,N):\n",
    "            if (not(attack(i,j))) and (board[i][j]!=1):\n",
    "                board[i][j] = 1\n",
    "                if N_queens(n-1)==True:\n",
    "                    return True\n",
    "                board[i][j] = 0\n",
    "    return False\n",
    "\n",
    "N_queens(N)\n",
    "for i in board:\n",
    "    print (i)"
   ]
  },
  {
   "cell_type": "markdown",
   "id": "34d879c8",
   "metadata": {},
   "source": [
    "## 5. Implementation of TSP using heuristic approach"
   ]
  },
  {
   "cell_type": "code",
   "execution_count": 22,
   "id": "22c850ed",
   "metadata": {},
   "outputs": [
    {
     "ename": "NameError",
     "evalue": "name '_name_' is not defined",
     "output_type": "error",
     "traceback": [
      "\u001b[1;31m---------------------------------------------------------------------------\u001b[0m",
      "\u001b[1;31mNameError\u001b[0m                                 Traceback (most recent call last)",
      "\u001b[1;32m<ipython-input-22-2a88c833c512>\u001b[0m in \u001b[0;36m<module>\u001b[1;34m\u001b[0m\n\u001b[0;32m     25\u001b[0m \u001b[1;33m\u001b[0m\u001b[0m\n\u001b[0;32m     26\u001b[0m \u001b[1;31m# Driver Code\u001b[0m\u001b[1;33m\u001b[0m\u001b[1;33m\u001b[0m\u001b[1;33m\u001b[0m\u001b[0m\n\u001b[1;32m---> 27\u001b[1;33m \u001b[1;32mif\u001b[0m \u001b[0m_name_\u001b[0m \u001b[1;33m==\u001b[0m \u001b[1;34m\"_main_\"\u001b[0m\u001b[1;33m:\u001b[0m\u001b[1;33m\u001b[0m\u001b[1;33m\u001b[0m\u001b[0m\n\u001b[0m\u001b[0;32m     28\u001b[0m  \u001b[1;31m# matrix representation of graph\u001b[0m\u001b[1;33m\u001b[0m\u001b[1;33m\u001b[0m\u001b[1;33m\u001b[0m\u001b[0m\n\u001b[0;32m     29\u001b[0m  \u001b[0mgraph\u001b[0m \u001b[1;33m=\u001b[0m \u001b[1;33m[\u001b[0m\u001b[1;33m[\u001b[0m\u001b[1;36m0\u001b[0m\u001b[1;33m,\u001b[0m \u001b[1;36m10\u001b[0m\u001b[1;33m,\u001b[0m \u001b[1;36m15\u001b[0m\u001b[1;33m,\u001b[0m \u001b[1;36m20\u001b[0m\u001b[1;33m]\u001b[0m\u001b[1;33m,\u001b[0m \u001b[1;33m[\u001b[0m\u001b[1;36m10\u001b[0m\u001b[1;33m,\u001b[0m \u001b[1;36m0\u001b[0m\u001b[1;33m,\u001b[0m \u001b[1;36m35\u001b[0m\u001b[1;33m,\u001b[0m \u001b[1;36m25\u001b[0m\u001b[1;33m]\u001b[0m\u001b[1;33m,\u001b[0m\u001b[1;33m[\u001b[0m\u001b[1;36m15\u001b[0m\u001b[1;33m,\u001b[0m \u001b[1;36m35\u001b[0m\u001b[1;33m,\u001b[0m \u001b[1;36m0\u001b[0m\u001b[1;33m,\u001b[0m \u001b[1;36m30\u001b[0m\u001b[1;33m]\u001b[0m\u001b[1;33m,\u001b[0m \u001b[1;33m[\u001b[0m\u001b[1;36m20\u001b[0m\u001b[1;33m,\u001b[0m \u001b[1;36m25\u001b[0m\u001b[1;33m,\u001b[0m \u001b[1;36m30\u001b[0m\u001b[1;33m,\u001b[0m \u001b[1;36m0\u001b[0m\u001b[1;33m]\u001b[0m\u001b[1;33m]\u001b[0m\u001b[1;33m\u001b[0m\u001b[1;33m\u001b[0m\u001b[0m\n",
      "\u001b[1;31mNameError\u001b[0m: name '_name_' is not defined"
     ]
    }
   ],
   "source": [
    "from sys import maxsize\n",
    "from itertools import permutations\n",
    "V = 4\n",
    "# implementation of traveling Salesman Problem\n",
    "def travellingSalesmanProblem(graph, s):\n",
    " # store all vertex apart from source vertex\n",
    "    vertex = []\n",
    "    for i in range(V):\n",
    "        if i != s:\n",
    "            vertex.append(i)\n",
    " # store minimum weight\n",
    "    min_path = maxsize\n",
    "    next_permutation=permutations(vertex)\n",
    "    for i in next_permutation:\n",
    "        current_pathweight = 0\n",
    " # compute current path weight\n",
    "    k = s\n",
    "    for j in i:\n",
    "        current_pathweight += graph[k][j]\n",
    "    k = j\n",
    "    current_pathweight += graph[k][s]\n",
    " # update minimum\n",
    "    min_path = min(min_path, current_pathweight)\n",
    "    return min_path\n",
    "\n",
    "# Driver Code\n",
    "if _name_ == \"_main_\":\n",
    " # matrix representation of graph\n",
    " graph = [[0, 10, 15, 20], [10, 0, 35, 25],[15, 35, 0, 30], [20, 25, 30, 0]]\n",
    " s = 0\n",
    " print(travellingSalesmanProblem(graph, s))"
   ]
  },
  {
   "cell_type": "markdown",
   "id": "dda7eeaa",
   "metadata": {},
   "source": [
    "## 6. Implementation of the problem solving strategies: either using Forward Chaining or Backward Chaining"
   ]
  },
  {
   "cell_type": "code",
   "execution_count": 23,
   "id": "43e9dddd",
   "metadata": {},
   "outputs": [
    {
     "name": "stdout",
     "output_type": "stream",
     "text": [
      "[['sing', 'canary'], ['canary', 'yellow']]\n"
     ]
    }
   ],
   "source": [
    "factskw=[['croaks', 'frog'],['eats flies','frog'],['frog','green'],['chirps','canary'],['sing','canary'],['canary','yellow']]\n",
    "def check(str, factOb):\n",
    "    facts=[]\n",
    "    flag=True\n",
    "    while flag==True:\n",
    "        flag=False\n",
    "        for txt in str:\n",
    "            for A1 in factOb:\n",
    "                if A1[0] == txt:\n",
    "                    tmp = [txt,A1[1]]\n",
    "                    if not tmp in facts:\n",
    "                        facts += [tmp]\n",
    "                        str += A1[1]\n",
    "                        flag = True\n",
    "    return facts\n",
    "result = check(['sing', 'canary'], factskw)\n",
    "print(result)\n"
   ]
  },
  {
   "cell_type": "code",
   "execution_count": 24,
   "id": "8f897cb3",
   "metadata": {},
   "outputs": [
    {
     "name": "stdout",
     "output_type": "stream",
     "text": [
      "Processing goal: C\n",
      "Found a rule with goal in its Chaining:\n",
      "A->('C',)\n",
      "Found a rule with goal in its Chaining:\n",
      "B->('C',)\n"
     ]
    },
    {
     "data": {
      "text/plain": [
       "True"
      ]
     },
     "execution_count": 24,
     "metadata": {},
     "output_type": "execute_result"
    }
   ],
   "source": [
    "class Rule:\n",
    "    def __init__(self, conclusion, *premises):\n",
    "        self.conclusion = conclusion\n",
    "        self.premises = premises\n",
    "def backward_chaining(goal, rules):\n",
    "    agenda = [goal]\n",
    "    while agenda:\n",
    "        goal = agenda.pop(0)\n",
    "        print(\"Processing goal:\", goal)\n",
    "        found = False\n",
    "        for rule in rules:\n",
    "            if goal in rule.premises:\n",
    "                print(\"Found a rule with goal in its Chaining:\")\n",
    "                print(rule.conclusion, rule.premises, sep='->')\n",
    "                found = True\n",
    "                for premise in rule.premises:\n",
    "                    if premise not in agenda:\n",
    "                        agenda.append(premise)\n",
    "        if not found:\n",
    "            print(\"No rules found for:\", goal)\n",
    "            return False\n",
    "        return True\n",
    "# Example usage\n",
    "rules = [Rule(\"A\", \"C\"), Rule(\"B\", \"C\"), Rule(\"C\", \"D\")]\n",
    "backward_chaining(\"C\", rules)\n",
    "# Output: True"
   ]
  },
  {
   "cell_type": "markdown",
   "id": "989e9cda",
   "metadata": {},
   "source": [
    "## 7. Implement resolution principle on FOPL related problems"
   ]
  },
  {
   "cell_type": "code",
   "execution_count": 25,
   "id": "bd5cfc85",
   "metadata": {},
   "outputs": [
    {
     "name": "stdout",
     "output_type": "stream",
     "text": [
      "parts: ['(A ', ' B) ', ' B']\n",
      "dnf_parts: [None, None, None]\n",
      "(A  or  B)  or  B\n"
     ]
    }
   ],
   "source": [
    "import re\n",
    "def dnf(formula): \n",
    "    if re.fullmatch(r'[A-Z]|~[A-Z]|()\"\"', formula):\n",
    "        return formula\n",
    "    if 'and' in formula or 'or' in formula:\n",
    "        parts = re.split(r'(?<=[^\\w])or(?=[^\\w])|(?<=[^\\w])and(?=[^\\w])', formula)\n",
    "        print(f\"parts: {parts}\")\n",
    "        dnf_parts = [dnf(part) for part in parts]\n",
    "        print(f\"dnf_parts: {dnf_parts}\")\n",
    "        if 'or' in formula:\n",
    "            return \" or \".join(parts)\n",
    "        elif 'and' in formula:\n",
    "            return \" and \".join(parts)\n",
    "# Example usage\n",
    "formula = \"(A and B) or B\"\n",
    "dnf_formula = dnf(formula)\n",
    "print(dnf_formula) # Outputs: \"A or C or B or D or\""
   ]
  },
  {
   "cell_type": "code",
   "execution_count": 26,
   "id": "44b7cb9c",
   "metadata": {},
   "outputs": [
    {
     "name": "stdout",
     "output_type": "stream",
     "text": [
      "(A and B) or (C and D)\n"
     ]
    }
   ],
   "source": [
    "import re\n",
    "def cnf(formula):\n",
    "    if re.fullmatch(r'[A-Z]|~[A-Z]', formula):\n",
    "        return formula\n",
    "    if 'and' in formula or 'or' in formula:\n",
    "        parts = re.split(r'(?<=\\()or(?=\\))|(?<=\\()and(?=\\))', formula)\n",
    "        if 'and' in formula:\n",
    "            return \" and \".join(parts)\n",
    "        elif 'or' in formula:\n",
    "            return \" or \".join(parts)\n",
    "# Example usage\n",
    "formula = \"(A and B) or (C and D)\"\n",
    "cnf_formula = cnf(formula)\n",
    "print(cnf_formula) # Outputs: \"A and B or C and D or\""
   ]
  },
  {
   "cell_type": "markdown",
   "id": "f493c060",
   "metadata": {},
   "source": [
    "## 8. Implement any Game and demonstrate the Game playing strategies"
   ]
  },
  {
   "cell_type": "code",
   "execution_count": 27,
   "id": "74115a3a",
   "metadata": {},
   "outputs": [
    {
     "name": "stdout",
     "output_type": "stream",
     "text": [
      "  0 1 2\n",
      "0      \n",
      "1      \n",
      "2      \n",
      "X, enter column: 1\n",
      "X, enter row: 1\n",
      "  0 1 2\n",
      "0      \n",
      "1   X  \n",
      "2      \n",
      "O, enter column: 0\n",
      "O, enter row: 0\n",
      "  0 1 2\n",
      "0 O    \n",
      "1   X  \n",
      "2      \n",
      "X, enter column: 2\n",
      "X, enter row: 2\n",
      "  0 1 2\n",
      "0 O    \n",
      "1   X  \n",
      "2     X\n",
      "O, enter column: 1\n",
      "O, enter row: 0\n",
      "  0 1 2\n",
      "0 O O  \n",
      "1   X  \n",
      "2     X\n",
      "X, enter column: 2\n",
      "X, enter row: 0\n",
      "  0 1 2\n",
      "0 O O X\n",
      "1   X  \n",
      "2     X\n",
      "O, enter column: 2\n",
      "O, enter row: 1\n",
      "  0 1 2\n",
      "0 O O X\n",
      "1   X O\n",
      "2     X\n",
      "X, enter column: 0\n",
      "X, enter row: 2\n",
      "X wins!\n"
     ]
    }
   ],
   "source": [
    "#Tic-tac Program\n",
    "board = [[\" \" for _ in range(3)] for _ in range(3)]\n",
    "\n",
    "def draw_board():\n",
    "    print(\"  0 1 2\")\n",
    "    for i, row in enumerate(board):\n",
    "        print(i, \" \".join(row))\n",
    "\n",
    "def get_move(player):\n",
    "    while True:\n",
    "        col = input(f\"{player}, enter column: \")\n",
    "        row = input(f\"{player}, enter row: \")\n",
    "        if col.isdigit() and row.isdigit():\n",
    "            col, row = int(col), int(row)\n",
    "            if 0 <= col < 3 and 0 <= row < 3:\n",
    "                if board[row][col] == \" \":\n",
    "                    board[row][col] = player\n",
    "                    return\n",
    "                else:\n",
    "                    print(\"That space is already occupied. Try again.\")\n",
    "            else:\n",
    "                print(\"Invalid move. Try again.\")\n",
    "        else:\n",
    "            print(\"Invalid input. Try again.\")\n",
    "\n",
    "def has_winner():\n",
    "    for row in board:\n",
    "        if row[0] == row[1] == row[2] and row[0] != \" \":\n",
    "            return True\n",
    "    for col in range(3):\n",
    "        if board[0][col] == board[1][col] == board[2][col] and board[0][col] != \" \":\n",
    "            return True\n",
    "        if board[0][0] == board[1][1] == board[2][2] and board[0][0] != \" \":\n",
    "            return True\n",
    "        if board[2][0] == board[1][1] == board[0][2] and board[2][0] != \" \":\n",
    "            return True\n",
    "    return False\n",
    "\n",
    "def main():\n",
    "    while True:\n",
    "        draw_board()\n",
    "        get_move(\"X\")\n",
    "        if has_winner():\n",
    "            print(\"X wins!\")\n",
    "            break\n",
    "        draw_board()\n",
    "        get_move(\"O\")\n",
    "        if has_winner():\n",
    "            print(\"O wins!\")\n",
    "            break\n",
    "\n",
    "main()"
   ]
  },
  {
   "cell_type": "code",
   "execution_count": null,
   "id": "e1784418",
   "metadata": {},
   "outputs": [],
   "source": []
  }
 ],
 "metadata": {
  "kernelspec": {
   "display_name": "Python 3",
   "language": "python",
   "name": "python3"
  },
  "language_info": {
   "codemirror_mode": {
    "name": "ipython",
    "version": 3
   },
   "file_extension": ".py",
   "mimetype": "text/x-python",
   "name": "python",
   "nbconvert_exporter": "python",
   "pygments_lexer": "ipython3",
   "version": "3.8.8"
  }
 },
 "nbformat": 4,
 "nbformat_minor": 5
}
